{
 "cells": [
  {
   "cell_type": "code",
   "execution_count": 1,
   "id": "023a1125",
   "metadata": {},
   "outputs": [],
   "source": [
    "# Importation des Librairies\n",
    "import pandas as pd\n",
    "import numpy as np"
   ]
  },
  {
   "cell_type": "code",
   "execution_count": 4,
   "id": "9f331dee",
   "metadata": {},
   "outputs": [],
   "source": [
    "# Chargement des données \n",
    "data = pd.read_csv('data.csv', encoding='ISO-8859-1')"
   ]
  },
  {
   "cell_type": "markdown",
   "id": "f43b5079",
   "metadata": {},
   "source": [
    "  Description des données\n",
    "\n",
    "| Colonne       | Description                                                                                 |\n",
    "| ------------- | ------------------------------------------------------------------------------------------- |\n",
    "| `InvoiceNo`   | Identifiant unique de la facture. Commence parfois par un 'C' pour indiquer une annulation. |\n",
    "| `StockCode`   | Code unique du produit.                                                                     |\n",
    "| `Description` | Description du produit.                                                                     |\n",
    "| `Quantity`    | Quantité de produit commandée. Les valeurs négatives indiquent des retours.                 |\n",
    "| `InvoiceDate` | Date et heure de la transaction.                                                            |\n",
    "| `UnitPrice`   | Prix unitaire du produit (en livre sterling £).                                             |\n",
    "| `CustomerID`  | Identifiant unique du client. Peut être manquant pour certains enregistrements.             |\n",
    "| `Country`     | Pays du client.                                                                             |\n"
   ]
  },
  {
   "cell_type": "code",
   "execution_count": null,
   "id": "4468b400",
   "metadata": {},
   "outputs": [],
   "source": []
  }
 ],
 "metadata": {
  "kernelspec": {
   "display_name": "Python 3",
   "language": "python",
   "name": "python3"
  },
  "language_info": {
   "codemirror_mode": {
    "name": "ipython",
    "version": 3
   },
   "file_extension": ".py",
   "mimetype": "text/x-python",
   "name": "python",
   "nbconvert_exporter": "python",
   "pygments_lexer": "ipython3",
   "version": "3.10.12"
  }
 },
 "nbformat": 4,
 "nbformat_minor": 5
}
